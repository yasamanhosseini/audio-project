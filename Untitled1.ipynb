{
  "cells": [
    {
      "cell_type": "markdown",
      "metadata": {
        "id": "view-in-github",
        "colab_type": "text"
      },
      "source": [
        "<a href=\"https://colab.research.google.com/github/yasamanhosseini/audio-project/blob/main/Untitled1.ipynb\" target=\"_parent\"><img src=\"https://colab.research.google.com/assets/colab-badge.svg\" alt=\"Open In Colab\"/></a>"
      ]
    },
    {
      "cell_type": "code",
      "execution_count": 15,
      "metadata": {
        "id": "0U8qixS20O9v"
      },
      "outputs": [],
      "source": [
        "import librosa\n",
        "from scipy.signal import butter, filtfilt\n",
        "import numpy as np\n",
        "import os\n",
        "import matplotlib.pyplot as plt\n",
        "import time\n"
      ]
    },
    {
      "cell_type": "code",
      "execution_count": 16,
      "metadata": {
        "colab": {
          "base_uri": "https://localhost:8080/"
        },
        "id": "IF-V_YxQ0WGE",
        "outputId": "44f4b235-d328-48fd-9c83-6ad80f1c5b60"
      },
      "outputs": [
        {
          "output_type": "stream",
          "name": "stdout",
          "text": [
            "/usr/local/lib/python3.10/dist-packages/gdown/__main__.py:132: FutureWarning: Option `--id` was deprecated in version 4.3.1 and will be removed in 5.0. You don't need to pass it anymore to use a file ID.\n",
            "  warnings.warn(\n",
            "Downloading...\n",
            "From: https://drive.google.com/uc?id=1lNUGw8VMXvY2Yu6aITYlOCNaj8y-KbNB\n",
            "To: /content/dataset.zip\n",
            "100% 16.4M/16.4M [00:00<00:00, 95.2MB/s]\n",
            "replace /content/barbie_vs_puppy/barbie/barbie_0.wav? [y]es, [n]o, [A]ll, [N]one, [r]ename: "
          ]
        }
      ],
      "source": [
        "file_id = '1lNUGw8VMXvY2Yu6aITYlOCNaj8y-KbNB'\n",
        "\n",
        "# Download the dataset\n",
        "!gdown --id $file_id -O dataset.zip\n",
        "\n",
        "# Unzip the dataset\n",
        "!unzip -q dataset.zip -d /content/\n"
      ]
    },
    {
      "cell_type": "code",
      "execution_count": 17,
      "metadata": {
        "id": "sTeRZzlE0aXj",
        "colab": {
          "base_uri": "https://localhost:8080/"
        },
        "outputId": "bceeb7b1-2b87-4741-eb1e-ac76f91648f9"
      },
      "outputs": [
        {
          "output_type": "stream",
          "name": "stdout",
          "text": [
            "Sample rate after Resampling: 16000\n"
          ]
        }
      ],
      "source": [
        "# Load a sample audio file\n",
        "sample_audio_path = '/content/barbie_vs_puppy/ESC-50/1-110389-A-0.wav'\n",
        "tic=time.time()\n",
        "# Resample the audio\n",
        "def resample_audio(audio_path, target_sr=16000):\n",
        "\ty, sr = librosa.load(audio_path, sr=target_sr)\n",
        "\treturn y, sr\n",
        "resampled_audio, sr = resample_audio(sample_audio_path)\n",
        "#toc=time.time()\n",
        "print(f\"Sample rate after Resampling: {sr}\")\n",
        "#print(\"test time=\" + str(1000 * (toc - tic)) + \"ms\")\n"
      ]
    },
    {
      "cell_type": "code",
      "execution_count": 18,
      "metadata": {
        "id": "mZ-Ad8Xz0efb",
        "colab": {
          "base_uri": "https://localhost:8080/"
        },
        "outputId": "012ac54e-d502-414c-ae34-0a1a275af714"
      },
      "outputs": [
        {
          "output_type": "stream",
          "name": "stdout",
          "text": [
            "Filtered audio shape: (80000,)\n"
          ]
        }
      ],
      "source": [
        "# Apply filtering\n",
        "def butter_lowpass_filter(data, cutoff_freq, sample_rate, order=4):\n",
        "\tnyquist = 0.5 * sample_rate\n",
        "\tnormal_cutoff = cutoff_freq / nyquist\n",
        "\tb, a = butter(order, normal_cutoff, btype='low', analog=False)\n",
        "\tfiltered_data = filtfilt(b, a, data)\n",
        "\tprint(f\"Filtered audio shape: {filtered_data.shape}\")\n",
        "\treturn filtered_data\n",
        "\n",
        "filtered_audio = butter_lowpass_filter(resampled_audio, cutoff_freq=4000, sample_rate=sr)\n"
      ]
    },
    {
      "cell_type": "code",
      "execution_count": 19,
      "metadata": {
        "id": "D8iThKzy0jGD",
        "colab": {
          "base_uri": "https://localhost:8080/"
        },
        "outputId": "aa7b25b9-4cc5-491c-b67d-fad87d080d48"
      },
      "outputs": [
        {
          "output_type": "stream",
          "name": "stdout",
          "text": [
            "Model input shape: (16000,)\n"
          ]
        }
      ],
      "source": [
        "# Convert audio data to the model’s expected input\n",
        "def convert_to_model_input(y, target_length):\n",
        "\tif len(y) < target_length:\n",
        "\t\ty = np.pad(y, (0, target_length - len(y)))\n",
        "\telse:\n",
        "\t\ty = y[:target_length]\n",
        "\treturn y\n",
        "\n",
        "model_input = convert_to_model_input(filtered_audio, target_length=16000)\n",
        "print(f\"Model input shape: {model_input.shape}\")\n"
      ]
    },
    {
      "cell_type": "code",
      "execution_count": 20,
      "metadata": {
        "id": "erfY3Mj00oAL",
        "colab": {
          "base_uri": "https://localhost:8080/"
        },
        "outputId": "8f8e53ae-7d7e-4037-c11f-f9096bcf747e"
      },
      "outputs": [
        {
          "output_type": "stream",
          "name": "stdout",
          "text": [
            "Filtered audio shape: (80000,)\n",
            "Filtered audio shape: (80000,)\n",
            "Processing batch with 2 files\n",
            "Shape of the first file: (16000,)\n",
            "Filtered audio shape: (80000,)\n",
            "Filtered audio shape: (80000,)\n",
            "Processing batch with 2 files\n",
            "Shape of the first file: (16000,)\n",
            "Filtered audio shape: (80000,)\n",
            "Filtered audio shape: (80000,)\n",
            "Processing batch with 2 files\n",
            "Shape of the first file: (16000,)\n",
            "Filtered audio shape: (80000,)\n",
            "Filtered audio shape: (80000,)\n",
            "Processing batch with 2 files\n",
            "Shape of the first file: (16000,)\n",
            "Filtered audio shape: (80000,)\n",
            "Filtered audio shape: (80000,)\n",
            "Processing batch with 2 files\n",
            "Shape of the first file: (16000,)\n",
            "Filtered audio shape: (80000,)\n",
            "Filtered audio shape: (80000,)\n",
            "Processing batch with 2 files\n",
            "Shape of the first file: (16000,)\n",
            "Filtered audio shape: (80000,)\n",
            "Filtered audio shape: (80000,)\n",
            "Processing batch with 2 files\n",
            "Shape of the first file: (16000,)\n",
            "Filtered audio shape: (80000,)\n",
            "Filtered audio shape: (80000,)\n",
            "Processing batch with 2 files\n",
            "Shape of the first file: (16000,)\n",
            "Filtered audio shape: (80000,)\n",
            "Filtered audio shape: (80000,)\n",
            "Processing batch with 2 files\n",
            "Shape of the first file: (16000,)\n",
            "Filtered audio shape: (80000,)\n",
            "Filtered audio shape: (80000,)\n",
            "Processing batch with 2 files\n",
            "Shape of the first file: (16000,)\n",
            "Filtered audio shape: (80000,)\n",
            "Filtered audio shape: (80000,)\n",
            "Processing batch with 2 files\n",
            "Shape of the first file: (16000,)\n",
            "Filtered audio shape: (80000,)\n",
            "Filtered audio shape: (80000,)\n",
            "Processing batch with 2 files\n",
            "Shape of the first file: (16000,)\n",
            "Filtered audio shape: (80000,)\n",
            "Filtered audio shape: (80000,)\n",
            "Processing batch with 2 files\n",
            "Shape of the first file: (16000,)\n",
            "Filtered audio shape: (80000,)\n",
            "Filtered audio shape: (80000,)\n",
            "Processing batch with 2 files\n",
            "Shape of the first file: (16000,)\n",
            "Filtered audio shape: (80000,)\n",
            "Filtered audio shape: (80000,)\n",
            "Processing batch with 2 files\n",
            "Shape of the first file: (16000,)\n",
            "Filtered audio shape: (80000,)\n",
            "Filtered audio shape: (80000,)\n",
            "Processing batch with 2 files\n",
            "Shape of the first file: (16000,)\n",
            "Filtered audio shape: (80000,)\n",
            "Filtered audio shape: (80000,)\n",
            "Processing batch with 2 files\n",
            "Shape of the first file: (16000,)\n",
            "Filtered audio shape: (80000,)\n",
            "Filtered audio shape: (80000,)\n",
            "Processing batch with 2 files\n",
            "Shape of the first file: (16000,)\n",
            "Filtered audio shape: (80000,)\n",
            "Filtered audio shape: (80000,)\n",
            "Processing batch with 2 files\n",
            "Shape of the first file: (16000,)\n",
            "Filtered audio shape: (80000,)\n",
            "Filtered audio shape: (80000,)\n",
            "Processing batch with 2 files\n",
            "Shape of the first file: (16000,)\n",
            "Filtered audio shape: (80000,)\n",
            "Filtered audio shape: (80000,)\n",
            "Processing batch with 2 files\n",
            "Shape of the first file: (16000,)\n",
            "Filtered audio shape: (80000,)\n",
            "Filtered audio shape: (80000,)\n",
            "Processing batch with 2 files\n",
            "Shape of the first file: (16000,)\n",
            "Filtered audio shape: (80000,)\n",
            "Filtered audio shape: (80000,)\n",
            "Processing batch with 2 files\n",
            "Shape of the first file: (16000,)\n",
            "Filtered audio shape: (80000,)\n",
            "Filtered audio shape: (80000,)\n",
            "Processing batch with 2 files\n",
            "Shape of the first file: (16000,)\n",
            "Filtered audio shape: (80000,)\n",
            "Filtered audio shape: (80000,)\n",
            "Processing batch with 2 files\n",
            "Shape of the first file: (16000,)\n",
            "Filtered audio shape: (80000,)\n",
            "Filtered audio shape: (80000,)\n",
            "Processing batch with 2 files\n",
            "Shape of the first file: (16000,)\n",
            "Filtered audio shape: (80000,)\n",
            "Filtered audio shape: (80000,)\n",
            "Processing batch with 2 files\n",
            "Shape of the first file: (16000,)\n",
            "Filtered audio shape: (80000,)\n",
            "Filtered audio shape: (80000,)\n",
            "Processing batch with 2 files\n",
            "Shape of the first file: (16000,)\n",
            "Filtered audio shape: (80000,)\n",
            "Filtered audio shape: (80000,)\n",
            "Processing batch with 2 files\n",
            "Shape of the first file: (16000,)\n",
            "Filtered audio shape: (80000,)\n",
            "Filtered audio shape: (80000,)\n",
            "Processing batch with 2 files\n",
            "Shape of the first file: (16000,)\n",
            "Filtered audio shape: (80000,)\n",
            "Filtered audio shape: (80000,)\n",
            "Processing batch with 2 files\n",
            "Shape of the first file: (16000,)\n",
            "Filtered audio shape: (80000,)\n",
            "Filtered audio shape: (80000,)\n",
            "Processing batch with 2 files\n",
            "Shape of the first file: (16000,)\n",
            "Filtered audio shape: (80000,)\n",
            "Filtered audio shape: (80000,)\n",
            "Processing batch with 2 files\n",
            "Shape of the first file: (16000,)\n",
            "Filtered audio shape: (80000,)\n",
            "Filtered audio shape: (80000,)\n",
            "Processing batch with 2 files\n",
            "Shape of the first file: (16000,)\n",
            "Filtered audio shape: (80000,)\n",
            "Filtered audio shape: (80000,)\n",
            "Processing batch with 2 files\n",
            "Shape of the first file: (16000,)\n",
            "Filtered audio shape: (80000,)\n",
            "Filtered audio shape: (80000,)\n",
            "Processing batch with 2 files\n",
            "Shape of the first file: (16000,)\n",
            "Filtered audio shape: (80000,)\n",
            "Filtered audio shape: (80000,)\n",
            "Processing batch with 2 files\n",
            "Shape of the first file: (16000,)\n",
            "Filtered audio shape: (80000,)\n",
            "Filtered audio shape: (80000,)\n",
            "Processing batch with 2 files\n",
            "Shape of the first file: (16000,)\n",
            "Filtered audio shape: (80000,)\n",
            "Filtered audio shape: (80000,)\n",
            "Processing batch with 2 files\n",
            "Shape of the first file: (16000,)\n",
            "Filtered audio shape: (80000,)\n",
            "Filtered audio shape: (80000,)\n",
            "Processing batch with 2 files\n",
            "Shape of the first file: (16000,)\n",
            "Filtered audio shape: (80000,)\n",
            "Filtered audio shape: (80000,)\n",
            "Processing batch with 2 files\n",
            "Shape of the first file: (16000,)\n",
            "Filtered audio shape: (80000,)\n",
            "Filtered audio shape: (80000,)\n",
            "Processing batch with 2 files\n",
            "Shape of the first file: (16000,)\n",
            "Filtered audio shape: (80000,)\n",
            "Filtered audio shape: (80000,)\n",
            "Processing batch with 2 files\n",
            "Shape of the first file: (16000,)\n",
            "Filtered audio shape: (80000,)\n",
            "Filtered audio shape: (80000,)\n",
            "Processing batch with 2 files\n",
            "Shape of the first file: (16000,)\n",
            "Filtered audio shape: (80000,)\n",
            "Filtered audio shape: (80000,)\n",
            "Processing batch with 2 files\n",
            "Shape of the first file: (16000,)\n",
            "Filtered audio shape: (80000,)\n",
            "Filtered audio shape: (80000,)\n",
            "Processing batch with 2 files\n",
            "Shape of the first file: (16000,)\n",
            "Filtered audio shape: (80000,)\n",
            "Filtered audio shape: (80000,)\n",
            "Processing batch with 2 files\n",
            "Shape of the first file: (16000,)\n",
            "Filtered audio shape: (80000,)\n",
            "Filtered audio shape: (80000,)\n",
            "Processing batch with 2 files\n",
            "Shape of the first file: (16000,)\n",
            "Filtered audio shape: (80000,)\n",
            "Filtered audio shape: (80000,)\n",
            "Processing batch with 2 files\n",
            "Shape of the first file: (16000,)\n",
            "Filtered audio shape: (80000,)\n",
            "Filtered audio shape: (80000,)\n",
            "Processing batch with 2 files\n",
            "Shape of the first file: (16000,)\n",
            "Filtered audio shape: (80000,)\n",
            "Filtered audio shape: (80000,)\n",
            "Processing batch with 2 files\n",
            "Shape of the first file: (16000,)\n",
            "Filtered audio shape: (80000,)\n",
            "Filtered audio shape: (80000,)\n",
            "Processing batch with 2 files\n",
            "Shape of the first file: (16000,)\n",
            "Filtered audio shape: (80000,)\n",
            "Filtered audio shape: (80000,)\n",
            "Processing batch with 2 files\n",
            "Shape of the first file: (16000,)\n",
            "Filtered audio shape: (80000,)\n",
            "Filtered audio shape: (80000,)\n",
            "Processing batch with 2 files\n",
            "Shape of the first file: (16000,)\n",
            "Filtered audio shape: (80000,)\n",
            "Filtered audio shape: (80000,)\n",
            "Processing batch with 2 files\n",
            "Shape of the first file: (16000,)\n",
            "Filtered audio shape: (80000,)\n",
            "Filtered audio shape: (80000,)\n",
            "Processing batch with 2 files\n",
            "Shape of the first file: (16000,)\n",
            "Filtered audio shape: (80000,)\n",
            "Filtered audio shape: (80000,)\n",
            "Processing batch with 2 files\n",
            "Shape of the first file: (16000,)\n",
            "Filtered audio shape: (80000,)\n",
            "Filtered audio shape: (80000,)\n",
            "Processing batch with 2 files\n",
            "Shape of the first file: (16000,)\n",
            "Filtered audio shape: (80000,)\n",
            "Filtered audio shape: (80000,)\n",
            "Processing batch with 2 files\n",
            "Shape of the first file: (16000,)\n",
            "Filtered audio shape: (80000,)\n",
            "Filtered audio shape: (80000,)\n",
            "Processing batch with 2 files\n",
            "Shape of the first file: (16000,)\n",
            "Filtered audio shape: (80000,)\n",
            "Filtered audio shape: (80000,)\n",
            "Processing batch with 2 files\n",
            "Shape of the first file: (16000,)\n",
            "Filtered audio shape: (80000,)\n",
            "Filtered audio shape: (80000,)\n",
            "Processing batch with 2 files\n",
            "Shape of the first file: (16000,)\n",
            "Filtered audio shape: (80000,)\n",
            "Filtered audio shape: (80000,)\n",
            "Processing batch with 2 files\n",
            "Shape of the first file: (16000,)\n",
            "Filtered audio shape: (80000,)\n",
            "Filtered audio shape: (80000,)\n",
            "Processing batch with 2 files\n",
            "Shape of the first file: (16000,)\n",
            "Filtered audio shape: (80000,)\n",
            "Filtered audio shape: (80000,)\n",
            "Processing batch with 2 files\n",
            "Shape of the first file: (16000,)\n",
            "Filtered audio shape: (80000,)\n",
            "Filtered audio shape: (80000,)\n",
            "Processing batch with 2 files\n",
            "Shape of the first file: (16000,)\n",
            "Filtered audio shape: (80000,)\n",
            "Filtered audio shape: (80000,)\n",
            "Processing batch with 2 files\n",
            "Shape of the first file: (16000,)\n",
            "Filtered audio shape: (80000,)\n",
            "Filtered audio shape: (80000,)\n",
            "Processing batch with 2 files\n",
            "Shape of the first file: (16000,)\n",
            "Filtered audio shape: (80000,)\n",
            "Filtered audio shape: (80000,)\n",
            "Processing batch with 2 files\n",
            "Shape of the first file: (16000,)\n",
            "Filtered audio shape: (80000,)\n",
            "Processing batch with 1 files\n",
            "Shape of the first file: (16000,)\n"
          ]
        }
      ],
      "source": [
        "def stream_audio_dataset(dataset_path, batch_size=32, target_length=16000, target_sr=None):\n",
        "\t# Get all audio file paths in the dataset path\n",
        "\taudio_files = [os.path.join(root, file) for root, dirs, files in os.walk(dataset_path) for file in files]\n",
        "\n",
        "\t# Shuffle the audio files for randomness\n",
        "\tnp.random.shuffle(audio_files)\n",
        "\n",
        "\t# Yield batches of audio data\n",
        "\tfor i in range(0, len(audio_files), batch_size):\n",
        "\t\tbatch_paths = audio_files[i:i + batch_size]\n",
        "\t\tbatch_data = []\n",
        "\n",
        "\t\tfor file_path in batch_paths:\n",
        "\t\t\t# Load and preprocess each audio file\n",
        "\t\t\ty, sr = librosa.load(file_path, sr=target_sr)\n",
        "\n",
        "\t\t\t# Resampling\n",
        "\t\t\tif target_sr is not None and sr != target_sr:\n",
        "\t\t\t\ty = librosa.resample(y, sr, target_sr)\n",
        "\t\t\t\tsr = target_sr\n",
        "\n",
        "\t\t\tfiltered_audio = butter_lowpass_filter(y, cutoff_freq=4000, sample_rate=sr)\n",
        "\t\t\tmodel_input = convert_to_model_input(filtered_audio, target_length=target_length)\n",
        "\t\t\tbatch_data.append(model_input)\n",
        "\n",
        "\t\tyield np.array(batch_data)\n",
        "\n",
        "# Load the dataset folder\n",
        "dataset_path = '/content/barbie_vs_puppy/ESC-50'\n",
        "\n",
        "for batch_data in stream_audio_dataset(dataset_path, batch_size=2, target_sr=16000):\n",
        "\t# Process each batch of audio data\n",
        "\tprint(f\"Processing batch with {len(batch_data)} files\")\n",
        "\n",
        "\t# Print the shape of the first file in the batch\n",
        "\tprint(f\"Shape of the first file: {batch_data[0].shape}\")\n"
      ]
    },
    {
      "cell_type": "code",
      "execution_count": 21,
      "metadata": {
        "id": "cp2f5m9n0--T",
        "colab": {
          "base_uri": "https://localhost:8080/",
          "height": 396
        },
        "outputId": "bb6688bb-f40d-4bc5-eb0c-cd722b928496"
      },
      "outputs": [
        {
          "output_type": "display_data",
          "data": {
            "text/plain": [
              "<Figure size 800x400 with 2 Axes>"
            ],
            "image/png": "[encoded data removed]"
          },
          "metadata": {}
        },
        {
          "output_type": "stream",
          "name": "stdout",
          "text": [
            "test time=1134.8180770874023ms\n"
          ]
        }
      ],
      "source": [
        "# visualizing log-mel spectrogram\n",
        "def compute_logmel_spectrogram(y, sr, n_mels=128, hop_length=512):\n",
        "\tmel_spectrogram = librosa.feature.melspectrogram(y=y, sr=sr, n_mels=n_mels, hop_length=hop_length)\n",
        "\tlogmel_spectrogram = librosa.power_to_db(mel_spectrogram, ref=np.max)\n",
        "\treturn logmel_spectrogram\n",
        "\n",
        "# load the audio file\n",
        "audio_file_path = '/content/barbie_vs_puppy/ESC-50/1-110389-A-0.wav'\n",
        "target_sr = 16000\n",
        "\n",
        "# Load the audio file\n",
        "y, sr = librosa.load(audio_file_path, sr=target_sr)\n",
        "\n",
        "# Compute log-mel spectrogram\n",
        "logmel_spectrogram = compute_logmel_spectrogram(y, sr=sr)\n",
        "\n",
        "# Display the log-mel spectrogram\n",
        "plt.figure(figsize=(8, 4))\n",
        "librosa.display.specshow(logmel_spectrogram, sr=sr, hop_length=512, x_axis='time', y_axis='mel')\n",
        "plt.colorbar(format='%+2.0f dB')\n",
        "plt.title('Log-Mel Spectrogram for chiken')\n",
        "toc=time.time()\n",
        "plt.show()\n",
        "print(\"test time=\" + str(1000 * (toc - tic)) + \"ms\")"
      ]
    }
  ],
  "metadata": {
    "accelerator": "TPU",
    "colab": {
      "gpuType": "V28",
      "provenance": [],
      "authorship_tag": "ABX9TyOigQSXWdEfAejrDeLFeQAt",
      "include_colab_link": true
    },
    "kernelspec": {
      "display_name": "Python 3",
      "name": "python3"
    },
    "language_info": {
      "name": "python"
    }
  },
  "nbformat": 4,
  "nbformat_minor": 0
}